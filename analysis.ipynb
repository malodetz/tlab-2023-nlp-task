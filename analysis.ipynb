{
 "cells": [
  {
   "cell_type": "code",
   "execution_count": 1,
   "outputs": [],
   "source": [
    "import json\n",
    "from data_processing import parse_example_file"
   ],
   "metadata": {
    "collapsed": false
   }
  },
  {
   "cell_type": "markdown",
   "source": [
    "Загрузим тестовые данные, в которых мы знаем правильные рассуждения и ответы, а также решения, полученные нами в ходе экспериментов."
   ],
   "metadata": {
    "collapsed": false
   }
  },
  {
   "cell_type": "code",
   "execution_count": 2,
   "outputs": [],
   "source": [
    "test_data = parse_example_file(\"data/test.jsonl\")\n",
    "\n",
    "simple_cot_results = []\n",
    "with open(\"results/results.jsonl\", \"r\") as f:\n",
    "    for line in f:\n",
    "        simple_cot_results.append(json.loads(line))\n",
    "ensemble_cot_results = []\n",
    "with open(\"results/results_ensemble.jsonl\", \"r\") as f:\n",
    "    for line in f:\n",
    "        ensemble_cot_results.append(json.loads(line))"
   ],
   "metadata": {
    "collapsed": false
   }
  },
  {
   "cell_type": "markdown",
   "source": [
    "Сначала просто посчитаем число верно решенных задач:"
   ],
   "metadata": {
    "collapsed": false
   }
  },
  {
   "cell_type": "code",
   "execution_count": 4,
   "outputs": [
    {
     "name": "stdout",
     "output_type": "stream",
     "text": [
      "13\n",
      "17\n"
     ]
    }
   ],
   "source": [
    "cnt = 0\n",
    "for pred, true in zip(simple_cot_results, test_data):\n",
    "    if pred[\"answer\"] == true.answer:\n",
    "        cnt+=1\n",
    "print(cnt)\n",
    "\n",
    "cnt = 0\n",
    "for pred, true in zip(ensemble_cot_results, test_data):\n",
    "    if pred[\"answer\"] == true.answer:\n",
    "        cnt+=1\n",
    "print(cnt)"
   ],
   "metadata": {
    "collapsed": false
   }
  },
  {
   "cell_type": "markdown",
   "source": [
    "Ансамблированный СoT работает лучше."
   ],
   "metadata": {
    "collapsed": false
   }
  }
 ],
 "metadata": {
  "kernelspec": {
   "display_name": "Python 3",
   "language": "python",
   "name": "python3"
  },
  "language_info": {
   "codemirror_mode": {
    "name": "ipython",
    "version": 2
   },
   "file_extension": ".py",
   "mimetype": "text/x-python",
   "name": "python",
   "nbconvert_exporter": "python",
   "pygments_lexer": "ipython2",
   "version": "2.7.6"
  }
 },
 "nbformat": 4,
 "nbformat_minor": 0
}
