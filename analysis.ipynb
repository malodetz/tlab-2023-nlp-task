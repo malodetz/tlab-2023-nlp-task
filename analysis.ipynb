{
 "cells": [
  {
   "cell_type": "code",
   "execution_count": 2,
   "outputs": [],
   "source": [
    "import json\n",
    "from data_processing import parse_example_file"
   ],
   "metadata": {
    "collapsed": false
   }
  },
  {
   "cell_type": "markdown",
   "source": [
    "Загрузим тестовые данные, в которых мы знаем правильные рассуждения и ответы, а также решения, полученные нами в ходе экспериментов."
   ],
   "metadata": {
    "collapsed": false
   }
  },
  {
   "cell_type": "code",
   "execution_count": 13,
   "outputs": [],
   "source": [
    "test_data = parse_example_file(\"data/test.jsonl\")\n",
    "\n",
    "simple_cot_results = []\n",
    "with open(\"results/results.jsonl\", \"r\") as f:\n",
    "    for line in f:\n",
    "        simple_cot_results.append(json.loads(line))\n",
    "ensemble_cot_results = []\n",
    "with open(\"results/results_ensemble.jsonl\", \"r\") as f:\n",
    "    for line in f:\n",
    "        ensemble_cot_results.append(json.loads(line))"
   ],
   "metadata": {
    "collapsed": false
   }
  },
  {
   "cell_type": "markdown",
   "source": [
    "Сначала просто посчитаем число верно решенных задач и выведем их номера:"
   ],
   "metadata": {
    "collapsed": false
   }
  },
  {
   "cell_type": "code",
   "execution_count": 17,
   "outputs": [
    {
     "name": "stdout",
     "output_type": "stream",
     "text": [
      "[0, 1, 3, 4, 32, 46, 55, 56, 76, 79, 81, 83, 89, 113, 117, 123, 140, 160, 167, 176, 180, 185, 194]\n",
      "[0, 1, 3, 22, 40, 42, 49, 55, 56, 62, 69, 71, 76, 77, 79, 83, 93, 105, 112, 113, 114, 117, 120, 131, 134, 136, 140, 142, 152, 164, 166, 170, 176, 179, 180, 185, 194, 196]\n"
     ]
    }
   ],
   "source": [
    "correct_answers_simple = []\n",
    "for i, (pred, true) in enumerate(zip(simple_cot_results, test_data)):\n",
    "    if pred[\"answer\"] == true.answer:\n",
    "        correct_answers_simple.append(i)\n",
    "print(correct_answers_simple)\n",
    "\n",
    "correct_answers_ensemble = []\n",
    "for i, (pred, true) in enumerate(zip(ensemble_cot_results, test_data)):\n",
    "    if pred[\"answer\"] == true.answer:\n",
    "        correct_answers_ensemble.append(i)\n",
    "print(correct_answers_ensemble)"
   ],
   "metadata": {
    "collapsed": false
   }
  },
  {
   "cell_type": "markdown",
   "source": [
    "Ансамблированный СoT работает лучше."
   ],
   "metadata": {
    "collapsed": false
   }
  }
 ],
 "metadata": {
  "kernelspec": {
   "display_name": "Python 3",
   "language": "python",
   "name": "python3"
  },
  "language_info": {
   "codemirror_mode": {
    "name": "ipython",
    "version": 2
   },
   "file_extension": ".py",
   "mimetype": "text/x-python",
   "name": "python",
   "nbconvert_exporter": "python",
   "pygments_lexer": "ipython2",
   "version": "2.7.6"
  }
 },
 "nbformat": 4,
 "nbformat_minor": 0
}
